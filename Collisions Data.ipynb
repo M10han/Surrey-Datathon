{
 "cells": [
  {
   "cell_type": "markdown",
   "metadata": {
    "collapsed": true
   },
   "source": [
    "# TELUS-IEEE Surrey Datathon\n",
    "## Team: Mohan Noolu, Sri Raghu Malireddi\n",
    "### Project: Analysis of Surrey Collisions Data\n",
    "### In this report, we are analysing the collisions that occured in the city of Surrey for the past 6 years and analysed the correlation between the Surrey's Weather and Collisions data. We finally came with an algorithm that can predict the probable accidents with respect to weather with 78.9% accuracy.\n",
    "\n",
    "#### Task 1: Import necessary packages"
   ]
  },
  {
   "cell_type": "code",
   "execution_count": 85,
   "metadata": {
    "collapsed": true
   },
   "outputs": [],
   "source": [
    "import urllib2, cStringIO\n",
    "import json\n",
    "from PIL import Image\n",
    "import numpy as np\n",
    "\n",
    "%matplotlib inline\n",
    "import matplotlib.pyplot as plt\n",
    "import pandas as pd\n",
    "\n",
    "import urllib, simplejson\n",
    "import requests\n",
    "import StringIO\n",
    "import time\n",
    "import warnings\n",
    "warnings.filterwarnings('ignore')\n",
    "\n",
    "from dateutil import parser, rrule\n",
    "from datetime import datetime, time, date\n",
    "import io"
   ]
  },
  {
   "cell_type": "markdown",
   "metadata": {},
   "source": [
    "### For this work, we acquired datasets from <http://data.surrey.ca/dataset> site and we did some intial pre processing steps to generate the data that we will be working from now onwards.\n",
    "\n",
    "#### Task 2: Importing the datasets into pandas dataframes"
   ]
  },
  {
   "cell_type": "code",
   "execution_count": 35,
   "metadata": {
    "collapsed": true
   },
   "outputs": [],
   "source": [
    "# Reading the data\n",
    "df2011 = pd.read_csv('./collisions_2011.csv')\n",
    "df2012 = pd.read_csv('./collisions_2012.csv')\n",
    "df2013 = pd.read_csv('./collisions_2013.csv')\n",
    "df2014 = pd.read_csv('./collisions_2014.csv')\n",
    "df2015 = pd.read_csv('./collisions_2015.csv')\n",
    "df2016 = pd.read_csv('./collisions_2016.csv')"
   ]
  },
  {
   "cell_type": "markdown",
   "metadata": {},
   "source": [
    "### Now let us analyze the frequency of accidents for each month in the year of 2011."
   ]
  },
  {
   "cell_type": "code",
   "execution_count": 86,
   "metadata": {
    "collapsed": false
   },
   "outputs": [
    {
     "name": "stdout",
     "output_type": "stream",
     "text": [
      "[1926, 1661, 1931, 1825, 1639, 1575, 1695, 1817, 1658, 1734, 1591, 1657] ['Jan', 'Feb', 'Mar', 'Apr', 'May', 'Jun', 'Jul', 'Aug', 'Sep', 'Oct', 'Nov', 'Dec']\n"
     ]
    },
    {
     "data": {
      "image/png": "[encoded data removed]",
      "text/plain": [
       "<matplotlib.figure.Figure at 0x118c48350>"
      ]
     },
     "metadata": {},
     "output_type": "display_data"
    }
   ],
   "source": [
    "months = ['Jan','Feb','Mar','Apr','May','Jun','Jul','Aug','Sep','Oct','Nov','Dec']\n",
    "freq = [0, 0, 0, 0, 0, 0, 0, 0, 0, 0, 0, 0]\n",
    "month = [1,2,3,4,5,6,7,8,9,10,11,12]\n",
    "for i in df2011['MONTH']:\n",
    "    freq[i-1] += 1\n",
    "print freq,months\n",
    "plt.bar(month, freq, 1, color='g')\n",
    "plt.show()"
   ]
  },
  {
   "cell_type": "code",
   "execution_count": 37,
   "metadata": {
    "collapsed": false
   },
   "outputs": [],
   "source": [
    "years = []\n",
    "months = []\n",
    "for year in range(2011,2017):\n",
    "    if year==2011:\n",
    "        for month in range(11,13):\n",
    "            years.append(year)\n",
    "            months.append(month)\n",
    "    else:\n",
    "        if year==2016:\n",
    "            for month in range(1,11):\n",
    "                years.append(year)\n",
    "                months.append(month)\n",
    "        else:\n",
    "            for month in range(1,13):\n",
    "                years.append(year)\n",
    "                months.append(month)      "
   ]
  },
  {
   "cell_type": "code",
   "execution_count": 38,
   "metadata": {
    "collapsed": false
   },
   "outputs": [],
   "source": [
    "collisions = pd.DataFrame()\n",
    "collisions['year'] = years\n",
    "collisions['month'] = months"
   ]
  },
  {
   "cell_type": "code",
   "execution_count": 87,
   "metadata": {
    "collapsed": false,
    "scrolled": true
   },
   "outputs": [
    {
     "data": {
      "image/png": "[encoded data removed]",
      "text/plain": [
       "<matplotlib.figure.Figure at 0x118c48c90>"
      ]
     },
     "metadata": {},
     "output_type": "display_data"
    }
   ],
   "source": [
    "df = pd.concat([df2011, df2012, df2013, df2014, df2015, df2016],ignore_index=True)\n",
    "df.drop(['CRIME_TYPE','INCIDENT_TYPE','Latitude','Longitude','ROAD_NAME','HUNDRED_BLOCK'], axis=1, inplace=True)\n",
    "df['freq'] = 1\n",
    "df = df.groupby(['YEAR','MONTH']).sum()\n",
    "df['freq'].plot()\n",
    "plt.show()"
   ]
  },
  {
   "cell_type": "code",
   "execution_count": 40,
   "metadata": {
    "collapsed": true
   },
   "outputs": [],
   "source": [
    "df = df.ix[10:]\n",
    "df.to_csv('monthly_collisions.csv')"
   ]
  },
  {
   "cell_type": "code",
   "execution_count": 41,
   "metadata": {
    "collapsed": true
   },
   "outputs": [],
   "source": [
    "collisions = pd.read_csv('monthly_collisions.csv')\n",
    "weather = pd.read_csv('IPEFLATR2_weather_monthly.csv')"
   ]
  },
  {
   "cell_type": "code",
   "execution_count": 42,
   "metadata": {
    "collapsed": false
   },
   "outputs": [],
   "source": [
    "weather = weather.ix[0:len(weather)-2]"
   ]
  },
  {
   "cell_type": "code",
   "execution_count": 43,
   "metadata": {
    "collapsed": false
   },
   "outputs": [
    {
     "name": "stdout",
     "output_type": "stream",
     "text": [
      "60 60\n"
     ]
    }
   ],
   "source": [
    "print len(weather), len(collisions)"
   ]
  },
  {
   "cell_type": "code",
   "execution_count": 44,
   "metadata": {
    "collapsed": false
   },
   "outputs": [],
   "source": [
    "data = weather.copy()\n",
    "data['accidents'] = collisions['freq']\n",
    "data.to_csv('weather_collisions.csv')"
   ]
  },
  {
   "cell_type": "code",
   "execution_count": 45,
   "metadata": {
    "collapsed": false,
    "scrolled": true
   },
   "outputs": [
    {
     "data": {
      "text/html": [
       "<div>\n",
       "<table border=\"1\" class=\"dataframe\">\n",
       "  <thead>\n",
       "    <tr style=\"text-align: right;\">\n",
       "      <th></th>\n",
       "      <th>year</th>\n",
       "      <th>month</th>\n",
       "      <th>temp</th>\n",
       "      <th>rain</th>\n",
       "      <th>avg_rain</th>\n",
       "      <th>humidity</th>\n",
       "      <th>wind</th>\n",
       "      <th>accidents</th>\n",
       "    </tr>\n",
       "  </thead>\n",
       "  <tbody>\n",
       "    <tr>\n",
       "      <th>0</th>\n",
       "      <td>2011</td>\n",
       "      <td>11</td>\n",
       "      <td>5.842292</td>\n",
       "      <td>0.356879</td>\n",
       "      <td>49.296871</td>\n",
       "      <td>80.557482</td>\n",
       "      <td>9.755371</td>\n",
       "      <td>1591</td>\n",
       "    </tr>\n",
       "    <tr>\n",
       "      <th>1</th>\n",
       "      <td>2011</td>\n",
       "      <td>12</td>\n",
       "      <td>0.492736</td>\n",
       "      <td>0.184930</td>\n",
       "      <td>1.968702</td>\n",
       "      <td>77.957883</td>\n",
       "      <td>8.793547</td>\n",
       "      <td>1657</td>\n",
       "    </tr>\n",
       "    <tr>\n",
       "      <th>2</th>\n",
       "      <td>2012</td>\n",
       "      <td>1</td>\n",
       "      <td>-3.678945</td>\n",
       "      <td>0.088905</td>\n",
       "      <td>1.645771</td>\n",
       "      <td>81.344929</td>\n",
       "      <td>11.405969</td>\n",
       "      <td>505</td>\n",
       "    </tr>\n",
       "    <tr>\n",
       "      <th>3</th>\n",
       "      <td>2012</td>\n",
       "      <td>2</td>\n",
       "      <td>-5.631785</td>\n",
       "      <td>0.086330</td>\n",
       "      <td>1.490236</td>\n",
       "      <td>78.015488</td>\n",
       "      <td>6.466599</td>\n",
       "      <td>436</td>\n",
       "    </tr>\n",
       "    <tr>\n",
       "      <th>4</th>\n",
       "      <td>2012</td>\n",
       "      <td>3</td>\n",
       "      <td>-0.011905</td>\n",
       "      <td>0.028822</td>\n",
       "      <td>0.431078</td>\n",
       "      <td>76.829574</td>\n",
       "      <td>7.124812</td>\n",
       "      <td>420</td>\n",
       "    </tr>\n",
       "    <tr>\n",
       "      <th>5</th>\n",
       "      <td>2012</td>\n",
       "      <td>4</td>\n",
       "      <td>5.921790</td>\n",
       "      <td>0.075147</td>\n",
       "      <td>1.036985</td>\n",
       "      <td>74.991755</td>\n",
       "      <td>9.835218</td>\n",
       "      <td>457</td>\n",
       "    </tr>\n",
       "    <tr>\n",
       "      <th>6</th>\n",
       "      <td>2012</td>\n",
       "      <td>5</td>\n",
       "      <td>11.448898</td>\n",
       "      <td>0.055719</td>\n",
       "      <td>0.721196</td>\n",
       "      <td>75.357817</td>\n",
       "      <td>7.127492</td>\n",
       "      <td>443</td>\n",
       "    </tr>\n",
       "    <tr>\n",
       "      <th>7</th>\n",
       "      <td>2012</td>\n",
       "      <td>6</td>\n",
       "      <td>14.738755</td>\n",
       "      <td>0.038882</td>\n",
       "      <td>0.328081</td>\n",
       "      <td>81.231258</td>\n",
       "      <td>6.711182</td>\n",
       "      <td>452</td>\n",
       "    </tr>\n",
       "    <tr>\n",
       "      <th>8</th>\n",
       "      <td>2012</td>\n",
       "      <td>7</td>\n",
       "      <td>19.836848</td>\n",
       "      <td>0.065816</td>\n",
       "      <td>0.732630</td>\n",
       "      <td>75.928968</td>\n",
       "      <td>6.626970</td>\n",
       "      <td>461</td>\n",
       "    </tr>\n",
       "    <tr>\n",
       "      <th>9</th>\n",
       "      <td>2012</td>\n",
       "      <td>8</td>\n",
       "      <td>20.651068</td>\n",
       "      <td>0.062816</td>\n",
       "      <td>0.861195</td>\n",
       "      <td>77.340981</td>\n",
       "      <td>7.329668</td>\n",
       "      <td>436</td>\n",
       "    </tr>\n",
       "    <tr>\n",
       "      <th>10</th>\n",
       "      <td>2012</td>\n",
       "      <td>9</td>\n",
       "      <td>16.310314</td>\n",
       "      <td>0.699484</td>\n",
       "      <td>10.228903</td>\n",
       "      <td>82.174168</td>\n",
       "      <td>7.020769</td>\n",
       "      <td>437</td>\n",
       "    </tr>\n",
       "    <tr>\n",
       "      <th>11</th>\n",
       "      <td>2012</td>\n",
       "      <td>10</td>\n",
       "      <td>11.017208</td>\n",
       "      <td>0.119001</td>\n",
       "      <td>0.975414</td>\n",
       "      <td>81.976844</td>\n",
       "      <td>9.460318</td>\n",
       "      <td>529</td>\n",
       "    </tr>\n",
       "    <tr>\n",
       "      <th>12</th>\n",
       "      <td>2012</td>\n",
       "      <td>11</td>\n",
       "      <td>4.270227</td>\n",
       "      <td>0.091540</td>\n",
       "      <td>1.114746</td>\n",
       "      <td>79.979434</td>\n",
       "      <td>8.732578</td>\n",
       "      <td>474</td>\n",
       "    </tr>\n",
       "    <tr>\n",
       "      <th>13</th>\n",
       "      <td>2012</td>\n",
       "      <td>12</td>\n",
       "      <td>0.225619</td>\n",
       "      <td>0.151372</td>\n",
       "      <td>1.528948</td>\n",
       "      <td>85.776298</td>\n",
       "      <td>9.260533</td>\n",
       "      <td>491</td>\n",
       "    </tr>\n",
       "    <tr>\n",
       "      <th>14</th>\n",
       "      <td>2013</td>\n",
       "      <td>1</td>\n",
       "      <td>-7.133052</td>\n",
       "      <td>0.022636</td>\n",
       "      <td>0.214938</td>\n",
       "      <td>77.156007</td>\n",
       "      <td>10.738808</td>\n",
       "      <td>481</td>\n",
       "    </tr>\n",
       "    <tr>\n",
       "      <th>15</th>\n",
       "      <td>2013</td>\n",
       "      <td>2</td>\n",
       "      <td>-4.884482</td>\n",
       "      <td>0.154412</td>\n",
       "      <td>1.817303</td>\n",
       "      <td>78.489588</td>\n",
       "      <td>12.134383</td>\n",
       "      <td>431</td>\n",
       "    </tr>\n",
       "    <tr>\n",
       "      <th>16</th>\n",
       "      <td>2013</td>\n",
       "      <td>3</td>\n",
       "      <td>-0.252091</td>\n",
       "      <td>0.040832</td>\n",
       "      <td>0.640244</td>\n",
       "      <td>78.172507</td>\n",
       "      <td>8.639928</td>\n",
       "      <td>457</td>\n",
       "    </tr>\n",
       "    <tr>\n",
       "      <th>17</th>\n",
       "      <td>2013</td>\n",
       "      <td>4</td>\n",
       "      <td>3.955006</td>\n",
       "      <td>0.052320</td>\n",
       "      <td>0.811213</td>\n",
       "      <td>75.292815</td>\n",
       "      <td>8.869470</td>\n",
       "      <td>466</td>\n",
       "    </tr>\n",
       "    <tr>\n",
       "      <th>18</th>\n",
       "      <td>2013</td>\n",
       "      <td>5</td>\n",
       "      <td>11.222949</td>\n",
       "      <td>0.055438</td>\n",
       "      <td>0.870000</td>\n",
       "      <td>77.559447</td>\n",
       "      <td>4.056820</td>\n",
       "      <td>460</td>\n",
       "    </tr>\n",
       "    <tr>\n",
       "      <th>19</th>\n",
       "      <td>2013</td>\n",
       "      <td>6</td>\n",
       "      <td>15.437640</td>\n",
       "      <td>0.114736</td>\n",
       "      <td>1.251735</td>\n",
       "      <td>77.560331</td>\n",
       "      <td>0.876455</td>\n",
       "      <td>461</td>\n",
       "    </tr>\n",
       "    <tr>\n",
       "      <th>20</th>\n",
       "      <td>2013</td>\n",
       "      <td>7</td>\n",
       "      <td>20.766813</td>\n",
       "      <td>0.054891</td>\n",
       "      <td>0.823528</td>\n",
       "      <td>74.967883</td>\n",
       "      <td>1.812847</td>\n",
       "      <td>426</td>\n",
       "    </tr>\n",
       "    <tr>\n",
       "      <th>21</th>\n",
       "      <td>2013</td>\n",
       "      <td>8</td>\n",
       "      <td>19.163785</td>\n",
       "      <td>2.247234</td>\n",
       "      <td>34.764246</td>\n",
       "      <td>70.815122</td>\n",
       "      <td>0.947580</td>\n",
       "      <td>418</td>\n",
       "    </tr>\n",
       "    <tr>\n",
       "      <th>22</th>\n",
       "      <td>2013</td>\n",
       "      <td>9</td>\n",
       "      <td>15.744957</td>\n",
       "      <td>0.106480</td>\n",
       "      <td>1.890581</td>\n",
       "      <td>75.653307</td>\n",
       "      <td>0.000000</td>\n",
       "      <td>451</td>\n",
       "    </tr>\n",
       "    <tr>\n",
       "      <th>23</th>\n",
       "      <td>2013</td>\n",
       "      <td>10</td>\n",
       "      <td>11.343749</td>\n",
       "      <td>0.000000</td>\n",
       "      <td>0.277843</td>\n",
       "      <td>67.216595</td>\n",
       "      <td>0.008885</td>\n",
       "      <td>491</td>\n",
       "    </tr>\n",
       "    <tr>\n",
       "      <th>24</th>\n",
       "      <td>2013</td>\n",
       "      <td>11</td>\n",
       "      <td>4.398996</td>\n",
       "      <td>0.031971</td>\n",
       "      <td>0.344675</td>\n",
       "      <td>72.370621</td>\n",
       "      <td>1.343204</td>\n",
       "      <td>487</td>\n",
       "    </tr>\n",
       "    <tr>\n",
       "      <th>25</th>\n",
       "      <td>2013</td>\n",
       "      <td>12</td>\n",
       "      <td>-4.354065</td>\n",
       "      <td>0.091870</td>\n",
       "      <td>1.143496</td>\n",
       "      <td>82.684508</td>\n",
       "      <td>5.244603</td>\n",
       "      <td>458</td>\n",
       "    </tr>\n",
       "    <tr>\n",
       "      <th>26</th>\n",
       "      <td>2014</td>\n",
       "      <td>1</td>\n",
       "      <td>-5.769601</td>\n",
       "      <td>0.065430</td>\n",
       "      <td>0.787440</td>\n",
       "      <td>72.560267</td>\n",
       "      <td>9.158124</td>\n",
       "      <td>422</td>\n",
       "    </tr>\n",
       "    <tr>\n",
       "      <th>27</th>\n",
       "      <td>2014</td>\n",
       "      <td>2</td>\n",
       "      <td>-6.430765</td>\n",
       "      <td>0.065408</td>\n",
       "      <td>0.772311</td>\n",
       "      <td>67.436468</td>\n",
       "      <td>4.286493</td>\n",
       "      <td>440</td>\n",
       "    </tr>\n",
       "    <tr>\n",
       "      <th>28</th>\n",
       "      <td>2014</td>\n",
       "      <td>3</td>\n",
       "      <td>-5.113315</td>\n",
       "      <td>0.293230</td>\n",
       "      <td>2.284315</td>\n",
       "      <td>61.542767</td>\n",
       "      <td>6.659174</td>\n",
       "      <td>408</td>\n",
       "    </tr>\n",
       "    <tr>\n",
       "      <th>29</th>\n",
       "      <td>2014</td>\n",
       "      <td>4</td>\n",
       "      <td>3.481689</td>\n",
       "      <td>0.124283</td>\n",
       "      <td>1.728178</td>\n",
       "      <td>68.529041</td>\n",
       "      <td>6.312176</td>\n",
       "      <td>396</td>\n",
       "    </tr>\n",
       "    <tr>\n",
       "      <th>30</th>\n",
       "      <td>2014</td>\n",
       "      <td>5</td>\n",
       "      <td>7.862704</td>\n",
       "      <td>0.058057</td>\n",
       "      <td>0.528365</td>\n",
       "      <td>65.183464</td>\n",
       "      <td>3.508147</td>\n",
       "      <td>435</td>\n",
       "    </tr>\n",
       "    <tr>\n",
       "      <th>31</th>\n",
       "      <td>2014</td>\n",
       "      <td>6</td>\n",
       "      <td>14.258501</td>\n",
       "      <td>0.092089</td>\n",
       "      <td>1.397448</td>\n",
       "      <td>65.447847</td>\n",
       "      <td>4.029091</td>\n",
       "      <td>453</td>\n",
       "    </tr>\n",
       "    <tr>\n",
       "      <th>32</th>\n",
       "      <td>2014</td>\n",
       "      <td>7</td>\n",
       "      <td>21.031998</td>\n",
       "      <td>0.082587</td>\n",
       "      <td>0.977519</td>\n",
       "      <td>64.027696</td>\n",
       "      <td>7.631055</td>\n",
       "      <td>431</td>\n",
       "    </tr>\n",
       "    <tr>\n",
       "      <th>33</th>\n",
       "      <td>2014</td>\n",
       "      <td>8</td>\n",
       "      <td>18.768986</td>\n",
       "      <td>0.781500</td>\n",
       "      <td>3.213056</td>\n",
       "      <td>70.574430</td>\n",
       "      <td>5.006822</td>\n",
       "      <td>408</td>\n",
       "    </tr>\n",
       "    <tr>\n",
       "      <th>34</th>\n",
       "      <td>2014</td>\n",
       "      <td>9</td>\n",
       "      <td>15.716520</td>\n",
       "      <td>0.162703</td>\n",
       "      <td>2.637803</td>\n",
       "      <td>63.834796</td>\n",
       "      <td>7.360362</td>\n",
       "      <td>485</td>\n",
       "    </tr>\n",
       "    <tr>\n",
       "      <th>35</th>\n",
       "      <td>2014</td>\n",
       "      <td>10</td>\n",
       "      <td>11.645793</td>\n",
       "      <td>0.098412</td>\n",
       "      <td>1.124223</td>\n",
       "      <td>68.742118</td>\n",
       "      <td>7.608846</td>\n",
       "      <td>538</td>\n",
       "    </tr>\n",
       "    <tr>\n",
       "      <th>36</th>\n",
       "      <td>2014</td>\n",
       "      <td>11</td>\n",
       "      <td>3.627150</td>\n",
       "      <td>0.138952</td>\n",
       "      <td>1.958915</td>\n",
       "      <td>66.540227</td>\n",
       "      <td>9.461674</td>\n",
       "      <td>510</td>\n",
       "    </tr>\n",
       "    <tr>\n",
       "      <th>37</th>\n",
       "      <td>2014</td>\n",
       "      <td>12</td>\n",
       "      <td>0.470444</td>\n",
       "      <td>0.142548</td>\n",
       "      <td>1.780364</td>\n",
       "      <td>69.233220</td>\n",
       "      <td>7.576405</td>\n",
       "      <td>536</td>\n",
       "    </tr>\n",
       "    <tr>\n",
       "      <th>38</th>\n",
       "      <td>2015</td>\n",
       "      <td>1</td>\n",
       "      <td>-7.485467</td>\n",
       "      <td>0.223956</td>\n",
       "      <td>52.931599</td>\n",
       "      <td>57.169747</td>\n",
       "      <td>10.041615</td>\n",
       "      <td>512</td>\n",
       "    </tr>\n",
       "    <tr>\n",
       "      <th>39</th>\n",
       "      <td>2015</td>\n",
       "      <td>2</td>\n",
       "      <td>-10.874358</td>\n",
       "      <td>0.008177</td>\n",
       "      <td>0.119318</td>\n",
       "      <td>54.410079</td>\n",
       "      <td>7.742663</td>\n",
       "      <td>430</td>\n",
       "    </tr>\n",
       "    <tr>\n",
       "      <th>40</th>\n",
       "      <td>2015</td>\n",
       "      <td>3</td>\n",
       "      <td>-5.133491</td>\n",
       "      <td>0.035044</td>\n",
       "      <td>0.420887</td>\n",
       "      <td>51.099482</td>\n",
       "      <td>7.307067</td>\n",
       "      <td>563</td>\n",
       "    </tr>\n",
       "    <tr>\n",
       "      <th>41</th>\n",
       "      <td>2015</td>\n",
       "      <td>4</td>\n",
       "      <td>1.586364</td>\n",
       "      <td>0.138402</td>\n",
       "      <td>1.805319</td>\n",
       "      <td>52.785380</td>\n",
       "      <td>6.714855</td>\n",
       "      <td>477</td>\n",
       "    </tr>\n",
       "    <tr>\n",
       "      <th>42</th>\n",
       "      <td>2015</td>\n",
       "      <td>5</td>\n",
       "      <td>11.455756</td>\n",
       "      <td>0.059061</td>\n",
       "      <td>0.603237</td>\n",
       "      <td>42.568498</td>\n",
       "      <td>7.120356</td>\n",
       "      <td>353</td>\n",
       "    </tr>\n",
       "    <tr>\n",
       "      <th>43</th>\n",
       "      <td>2015</td>\n",
       "      <td>6</td>\n",
       "      <td>13.232158</td>\n",
       "      <td>0.182784</td>\n",
       "      <td>2.476589</td>\n",
       "      <td>55.064269</td>\n",
       "      <td>5.811995</td>\n",
       "      <td>459</td>\n",
       "    </tr>\n",
       "    <tr>\n",
       "      <th>44</th>\n",
       "      <td>2015</td>\n",
       "      <td>7</td>\n",
       "      <td>18.398291</td>\n",
       "      <td>0.083418</td>\n",
       "      <td>0.965843</td>\n",
       "      <td>56.895843</td>\n",
       "      <td>4.232633</td>\n",
       "      <td>483</td>\n",
       "    </tr>\n",
       "    <tr>\n",
       "      <th>45</th>\n",
       "      <td>2015</td>\n",
       "      <td>8</td>\n",
       "      <td>21.401766</td>\n",
       "      <td>0.000738</td>\n",
       "      <td>0.037067</td>\n",
       "      <td>57.821596</td>\n",
       "      <td>5.586787</td>\n",
       "      <td>486</td>\n",
       "    </tr>\n",
       "    <tr>\n",
       "      <th>46</th>\n",
       "      <td>2015</td>\n",
       "      <td>9</td>\n",
       "      <td>16.976312</td>\n",
       "      <td>0.000000</td>\n",
       "      <td>0.000000</td>\n",
       "      <td>60.820443</td>\n",
       "      <td>4.794024</td>\n",
       "      <td>500</td>\n",
       "    </tr>\n",
       "    <tr>\n",
       "      <th>47</th>\n",
       "      <td>2015</td>\n",
       "      <td>10</td>\n",
       "      <td>8.845784</td>\n",
       "      <td>0.108824</td>\n",
       "      <td>1.274636</td>\n",
       "      <td>53.270501</td>\n",
       "      <td>7.793093</td>\n",
       "      <td>518</td>\n",
       "    </tr>\n",
       "    <tr>\n",
       "      <th>48</th>\n",
       "      <td>2015</td>\n",
       "      <td>11</td>\n",
       "      <td>4.597639</td>\n",
       "      <td>0.125165</td>\n",
       "      <td>1.531327</td>\n",
       "      <td>55.414070</td>\n",
       "      <td>7.775331</td>\n",
       "      <td>575</td>\n",
       "    </tr>\n",
       "    <tr>\n",
       "      <th>49</th>\n",
       "      <td>2015</td>\n",
       "      <td>12</td>\n",
       "      <td>1.169550</td>\n",
       "      <td>0.126699</td>\n",
       "      <td>1.652471</td>\n",
       "      <td>60.842454</td>\n",
       "      <td>7.012842</td>\n",
       "      <td>575</td>\n",
       "    </tr>\n",
       "    <tr>\n",
       "      <th>50</th>\n",
       "      <td>2016</td>\n",
       "      <td>1</td>\n",
       "      <td>-3.792164</td>\n",
       "      <td>0.603606</td>\n",
       "      <td>0.650717</td>\n",
       "      <td>42.544152</td>\n",
       "      <td>11.266505</td>\n",
       "      <td>572</td>\n",
       "    </tr>\n",
       "    <tr>\n",
       "      <th>51</th>\n",
       "      <td>2016</td>\n",
       "      <td>2</td>\n",
       "      <td>-2.561490</td>\n",
       "      <td>0.047683</td>\n",
       "      <td>0.677772</td>\n",
       "      <td>48.535550</td>\n",
       "      <td>7.609973</td>\n",
       "      <td>470</td>\n",
       "    </tr>\n",
       "    <tr>\n",
       "      <th>52</th>\n",
       "      <td>2016</td>\n",
       "      <td>3</td>\n",
       "      <td>-2.121122</td>\n",
       "      <td>0.068630</td>\n",
       "      <td>0.657519</td>\n",
       "      <td>37.139374</td>\n",
       "      <td>7.382611</td>\n",
       "      <td>512</td>\n",
       "    </tr>\n",
       "    <tr>\n",
       "      <th>53</th>\n",
       "      <td>2016</td>\n",
       "      <td>4</td>\n",
       "      <td>3.299902</td>\n",
       "      <td>0.075067</td>\n",
       "      <td>1.068987</td>\n",
       "      <td>33.934799</td>\n",
       "      <td>7.503565</td>\n",
       "      <td>488</td>\n",
       "    </tr>\n",
       "    <tr>\n",
       "      <th>54</th>\n",
       "      <td>2016</td>\n",
       "      <td>5</td>\n",
       "      <td>10.486088</td>\n",
       "      <td>0.075351</td>\n",
       "      <td>0.897746</td>\n",
       "      <td>38.293747</td>\n",
       "      <td>7.842705</td>\n",
       "      <td>443</td>\n",
       "    </tr>\n",
       "    <tr>\n",
       "      <th>55</th>\n",
       "      <td>2016</td>\n",
       "      <td>6</td>\n",
       "      <td>15.101348</td>\n",
       "      <td>0.065686</td>\n",
       "      <td>0.866765</td>\n",
       "      <td>37.538235</td>\n",
       "      <td>6.581765</td>\n",
       "      <td>473</td>\n",
       "    </tr>\n",
       "    <tr>\n",
       "      <th>56</th>\n",
       "      <td>2016</td>\n",
       "      <td>7</td>\n",
       "      <td>19.551822</td>\n",
       "      <td>0.072740</td>\n",
       "      <td>1.010324</td>\n",
       "      <td>41.311066</td>\n",
       "      <td>5.843770</td>\n",
       "      <td>457</td>\n",
       "    </tr>\n",
       "    <tr>\n",
       "      <th>57</th>\n",
       "      <td>2016</td>\n",
       "      <td>8</td>\n",
       "      <td>18.711079</td>\n",
       "      <td>0.018840</td>\n",
       "      <td>0.121975</td>\n",
       "      <td>45.152339</td>\n",
       "      <td>6.013457</td>\n",
       "      <td>475</td>\n",
       "    </tr>\n",
       "    <tr>\n",
       "      <th>58</th>\n",
       "      <td>2016</td>\n",
       "      <td>9</td>\n",
       "      <td>15.778720</td>\n",
       "      <td>0.121185</td>\n",
       "      <td>0.457583</td>\n",
       "      <td>45.403153</td>\n",
       "      <td>6.318199</td>\n",
       "      <td>503</td>\n",
       "    </tr>\n",
       "    <tr>\n",
       "      <th>59</th>\n",
       "      <td>2016</td>\n",
       "      <td>10</td>\n",
       "      <td>8.751083</td>\n",
       "      <td>0.615111</td>\n",
       "      <td>4.903834</td>\n",
       "      <td>41.405503</td>\n",
       "      <td>5.184438</td>\n",
       "      <td>572</td>\n",
       "    </tr>\n",
       "  </tbody>\n",
       "</table>\n",
       "</div>"
      ],
      "text/plain": [
       "    year  month       temp      rain   avg_rain   humidity       wind  \\\n",
       "0   2011     11   5.842292  0.356879  49.296871  80.557482   9.755371   \n",
       "1   2011     12   0.492736  0.184930   1.968702  77.957883   8.793547   \n",
       "2   2012      1  -3.678945  0.088905   1.645771  81.344929  11.405969   \n",
       "3   2012      2  -5.631785  0.086330   1.490236  78.015488   6.466599   \n",
       "4   2012      3  -0.011905  0.028822   0.431078  76.829574   7.124812   \n",
       "5   2012      4   5.921790  0.075147   1.036985  74.991755   9.835218   \n",
       "6   2012      5  11.448898  0.055719   0.721196  75.357817   7.127492   \n",
       "7   2012      6  14.738755  0.038882   0.328081  81.231258   6.711182   \n",
       "8   2012      7  19.836848  0.065816   0.732630  75.928968   6.626970   \n",
       "9   2012      8  20.651068  0.062816   0.861195  77.340981   7.329668   \n",
       "10  2012      9  16.310314  0.699484  10.228903  82.174168   7.020769   \n",
       "11  2012     10  11.017208  0.119001   0.975414  81.976844   9.460318   \n",
       "12  2012     11   4.270227  0.091540   1.114746  79.979434   8.732578   \n",
       "13  2012     12   0.225619  0.151372   1.528948  85.776298   9.260533   \n",
       "14  2013      1  -7.133052  0.022636   0.214938  77.156007  10.738808   \n",
       "15  2013      2  -4.884482  0.154412   1.817303  78.489588  12.134383   \n",
       "16  2013      3  -0.252091  0.040832   0.640244  78.172507   8.639928   \n",
       "17  2013      4   3.955006  0.052320   0.811213  75.292815   8.869470   \n",
       "18  2013      5  11.222949  0.055438   0.870000  77.559447   4.056820   \n",
       "19  2013      6  15.437640  0.114736   1.251735  77.560331   0.876455   \n",
       "20  2013      7  20.766813  0.054891   0.823528  74.967883   1.812847   \n",
       "21  2013      8  19.163785  2.247234  34.764246  70.815122   0.947580   \n",
       "22  2013      9  15.744957  0.106480   1.890581  75.653307   0.000000   \n",
       "23  2013     10  11.343749  0.000000   0.277843  67.216595   0.008885   \n",
       "24  2013     11   4.398996  0.031971   0.344675  72.370621   1.343204   \n",
       "25  2013     12  -4.354065  0.091870   1.143496  82.684508   5.244603   \n",
       "26  2014      1  -5.769601  0.065430   0.787440  72.560267   9.158124   \n",
       "27  2014      2  -6.430765  0.065408   0.772311  67.436468   4.286493   \n",
       "28  2014      3  -5.113315  0.293230   2.284315  61.542767   6.659174   \n",
       "29  2014      4   3.481689  0.124283   1.728178  68.529041   6.312176   \n",
       "30  2014      5   7.862704  0.058057   0.528365  65.183464   3.508147   \n",
       "31  2014      6  14.258501  0.092089   1.397448  65.447847   4.029091   \n",
       "32  2014      7  21.031998  0.082587   0.977519  64.027696   7.631055   \n",
       "33  2014      8  18.768986  0.781500   3.213056  70.574430   5.006822   \n",
       "34  2014      9  15.716520  0.162703   2.637803  63.834796   7.360362   \n",
       "35  2014     10  11.645793  0.098412   1.124223  68.742118   7.608846   \n",
       "36  2014     11   3.627150  0.138952   1.958915  66.540227   9.461674   \n",
       "37  2014     12   0.470444  0.142548   1.780364  69.233220   7.576405   \n",
       "38  2015      1  -7.485467  0.223956  52.931599  57.169747  10.041615   \n",
       "39  2015      2 -10.874358  0.008177   0.119318  54.410079   7.742663   \n",
       "40  2015      3  -5.133491  0.035044   0.420887  51.099482   7.307067   \n",
       "41  2015      4   1.586364  0.138402   1.805319  52.785380   6.714855   \n",
       "42  2015      5  11.455756  0.059061   0.603237  42.568498   7.120356   \n",
       "43  2015      6  13.232158  0.182784   2.476589  55.064269   5.811995   \n",
       "44  2015      7  18.398291  0.083418   0.965843  56.895843   4.232633   \n",
       "45  2015      8  21.401766  0.000738   0.037067  57.821596   5.586787   \n",
       "46  2015      9  16.976312  0.000000   0.000000  60.820443   4.794024   \n",
       "47  2015     10   8.845784  0.108824   1.274636  53.270501   7.793093   \n",
       "48  2015     11   4.597639  0.125165   1.531327  55.414070   7.775331   \n",
       "49  2015     12   1.169550  0.126699   1.652471  60.842454   7.012842   \n",
       "50  2016      1  -3.792164  0.603606   0.650717  42.544152  11.266505   \n",
       "51  2016      2  -2.561490  0.047683   0.677772  48.535550   7.609973   \n",
       "52  2016      3  -2.121122  0.068630   0.657519  37.139374   7.382611   \n",
       "53  2016      4   3.299902  0.075067   1.068987  33.934799   7.503565   \n",
       "54  2016      5  10.486088  0.075351   0.897746  38.293747   7.842705   \n",
       "55  2016      6  15.101348  0.065686   0.866765  37.538235   6.581765   \n",
       "56  2016      7  19.551822  0.072740   1.010324  41.311066   5.843770   \n",
       "57  2016      8  18.711079  0.018840   0.121975  45.152339   6.013457   \n",
       "58  2016      9  15.778720  0.121185   0.457583  45.403153   6.318199   \n",
       "59  2016     10   8.751083  0.615111   4.903834  41.405503   5.184438   \n",
       "\n",
       "    accidents  \n",
       "0        1591  \n",
       "1        1657  \n",
       "2         505  \n",
       "3         436  \n",
       "4         420  \n",
       "5         457  \n",
       "6         443  \n",
       "7         452  \n",
       "8         461  \n",
       "9         436  \n",
       "10        437  \n",
       "11        529  \n",
       "12        474  \n",
       "13        491  \n",
       "14        481  \n",
       "15        431  \n",
       "16        457  \n",
       "17        466  \n",
       "18        460  \n",
       "19        461  \n",
       "20        426  \n",
       "21        418  \n",
       "22        451  \n",
       "23        491  \n",
       "24        487  \n",
       "25        458  \n",
       "26        422  \n",
       "27        440  \n",
       "28        408  \n",
       "29        396  \n",
       "30        435  \n",
       "31        453  \n",
       "32        431  \n",
       "33        408  \n",
       "34        485  \n",
       "35        538  \n",
       "36        510  \n",
       "37        536  \n",
       "38        512  \n",
       "39        430  \n",
       "40        563  \n",
       "41        477  \n",
       "42        353  \n",
       "43        459  \n",
       "44        483  \n",
       "45        486  \n",
       "46        500  \n",
       "47        518  \n",
       "48        575  \n",
       "49        575  \n",
       "50        572  \n",
       "51        470  \n",
       "52        512  \n",
       "53        488  \n",
       "54        443  \n",
       "55        473  \n",
       "56        457  \n",
       "57        475  \n",
       "58        503  \n",
       "59        572  "
      ]
     },
     "execution_count": 45,
     "metadata": {},
     "output_type": "execute_result"
    }
   ],
   "source": [
    "data = pd.read_csv('weather_collisions.csv')\n",
    "data.drop('Unnamed: 0',axis=1,inplace=True)\n",
    "data"
   ]
  },
  {
   "cell_type": "code",
   "execution_count": 88,
   "metadata": {
    "collapsed": false
   },
   "outputs": [
    {
     "data": {
      "image/png": "[encoded data removed]",
      "text/plain": [
       "<matplotlib.figure.Figure at 0x118c48f50>"
      ]
     },
     "metadata": {},
     "output_type": "display_data"
    }
   ],
   "source": [
    "data[['temp','rain','humidity','wind','accidents']].plot()\n",
    "plt.show()"
   ]
  },
  {
   "cell_type": "code",
   "execution_count": 47,
   "metadata": {
    "collapsed": true
   },
   "outputs": [],
   "source": [
    "# Normalize the data\n",
    "data = data.ix[2:]\n",
    "data_norm = (data - data.mean()) / (data.max() - data.min())\n",
    "data_norm['year'] = data['year']\n",
    "data_norm['month'] = data['month']"
   ]
  },
  {
   "cell_type": "code",
   "execution_count": 89,
   "metadata": {
    "collapsed": false
   },
   "outputs": [
    {
     "data": {
      "image/png": "[encoded data removed]",
      "text/plain": [
       "<matplotlib.figure.Figure at 0x118fc3b90>"
      ]
     },
     "metadata": {},
     "output_type": "display_data"
    }
   ],
   "source": [
    "data_norm[['temp','rain','humidity','wind','accidents']].plot()\n",
    "plt.show()"
   ]
  },
  {
   "cell_type": "code",
   "execution_count": 49,
   "metadata": {
    "collapsed": false
   },
   "outputs": [
    {
     "name": "stdout",
     "output_type": "stream",
     "text": [
      "(-0.16343323118110648, 0.22025980197144343)\n",
      "(0.0097863263277556314, 0.94187796187487316)\n",
      "(-0.25682800148796031, 0.05163722948109134)\n",
      "(0.21693688372065228, 0.101897916357763)\n"
     ]
    }
   ],
   "source": [
    "from scipy.stats import pearsonr\n",
    "print pearsonr(data_norm['temp'], data_norm['accidents'])\n",
    "print pearsonr(data_norm['avg_rain'], data_norm['accidents'])\n",
    "print pearsonr(data_norm['humidity'], data_norm['accidents'])\n",
    "print pearsonr(data_norm['wind'], data_norm['accidents'])"
   ]
  },
  {
   "cell_type": "code",
   "execution_count": 90,
   "metadata": {
    "collapsed": false
   },
   "outputs": [
    {
     "data": {
      "image/png": "[encoded data removed]",
      "text/plain": [
       "<matplotlib.figure.Figure at 0x11943a190>"
      ]
     },
     "metadata": {},
     "output_type": "display_data"
    }
   ],
   "source": [
    "plt.plot(data_norm['temp'], data_norm['accidents'], 'ro')\n",
    "plt.xlabel('Temperature')\n",
    "plt.ylabel('#Accidents')\n",
    "plt.show()"
   ]
  },
  {
   "cell_type": "code",
   "execution_count": 91,
   "metadata": {
    "collapsed": false
   },
   "outputs": [
    {
     "data": {
      "image/png": "[encoded data removed]",
      "text/plain": [
       "<matplotlib.figure.Figure at 0x1194ed790>"
      ]
     },
     "metadata": {},
     "output_type": "display_data"
    }
   ],
   "source": [
    "plt.plot(data_norm['avg_rain'], data_norm['accidents'], 'ro')\n",
    "plt.xlabel('Avg. Rain')\n",
    "plt.ylabel('#Accidents')\n",
    "plt.show()"
   ]
  },
  {
   "cell_type": "code",
   "execution_count": 92,
   "metadata": {
    "collapsed": false
   },
   "outputs": [
    {
     "data": {
      "image/png": "[encoded data removed]",
      "text/plain": [
       "<matplotlib.figure.Figure at 0x119510610>"
      ]
     },
     "metadata": {},
     "output_type": "display_data"
    }
   ],
   "source": [
    "plt.plot(data_norm['humidity'], data_norm['accidents'], 'ro')\n",
    "plt.xlabel('Humidity')\n",
    "plt.ylabel('#Accidents')\n",
    "plt.show()"
   ]
  },
  {
   "cell_type": "code",
   "execution_count": 93,
   "metadata": {
    "collapsed": false
   },
   "outputs": [
    {
     "data": {
      "image/png": "[encoded data removed]",
      "text/plain": [
       "<matplotlib.figure.Figure at 0x1194569d0>"
      ]
     },
     "metadata": {},
     "output_type": "display_data"
    }
   ],
   "source": [
    "plt.plot(data_norm['wind'], data_norm['accidents'], 'ro')\n",
    "plt.xlabel('Wind')\n",
    "plt.ylabel('#Accidents')\n",
    "plt.show()"
   ]
  },
  {
   "cell_type": "code",
   "execution_count": 54,
   "metadata": {
    "collapsed": false
   },
   "outputs": [],
   "source": [
    "train = data.copy()\n",
    "train.drop(['year','rain','accidents'],axis=1,inplace=True)\n",
    "test = data_norm.accidents\n",
    "from sklearn.cross_validation import train_test_split\n",
    "X_train, X_test, y_train, y_test = train_test_split(train, test, test_size=0.1, random_state=33)"
   ]
  },
  {
   "cell_type": "code",
   "execution_count": 55,
   "metadata": {
    "collapsed": false
   },
   "outputs": [],
   "source": [
    "# Normalizing the data\n",
    "from sklearn.preprocessing import StandardScaler\n",
    "scalerX = StandardScaler().fit(X_train)\n",
    "scalery = StandardScaler().fit(y_train)\n",
    "X_train = scalerX.transform(X_train)\n",
    "y_train = scalery.transform(y_train)\n",
    "X_test = scalerX.transform(X_test)\n",
    "y_test = scalery.transform(y_test)"
   ]
  },
  {
   "cell_type": "code",
   "execution_count": 56,
   "metadata": {
    "collapsed": true
   },
   "outputs": [],
   "source": [
    "from sklearn.cross_validation import *\n",
    "def train_and_evaluate(clf, X_train, y_train):\n",
    "    clf.fit(X_train, y_train)\n",
    "    print \"Coefficient of determination on training set:\",clf.score(X_train, y_train)\n",
    "    # create a k-fold cross validation iterator of k=5 folds\n",
    "    cv = KFold(X_train.shape[0], 5, shuffle=True, random_state=33)\n",
    "    scores = cross_val_score(clf, X_train, y_train, cv=cv)\n",
    "    print \"Average coefficient of determination using 5-fold crossvalidation:\",np.mean(scores)\n",
    "    \n",
    "from sklearn import metrics\n",
    "def measure_performance(X, y, clf, show_accuracy=True, show_classification_report=True, show_confusion_matrix=True, show_r2_score=False):\n",
    "    y_pred = clf.predict(X)   \n",
    "    if show_accuracy:\n",
    "        print \"Accuracy:{0:.3f}\".format(metrics.accuracy_score(y, y_pred)),\"\\n\"\n",
    "    if show_classification_report:\n",
    "        print \"Classification report\"\n",
    "        print metrics.classification_report(y, y_pred),\"\\n\"\n",
    "        \n",
    "    if show_confusion_matrix:\n",
    "        print \"Confusion matrix\"\n",
    "        print metrics.confusion_matrix(y, y_pred),\"\\n\"\n",
    "        \n",
    "    if show_r2_score:\n",
    "        print \"Coefficient of determination:{0:.3f}\".format(metrics.r2_score(y, y_pred)),\"\\n\""
   ]
  },
  {
   "cell_type": "code",
   "execution_count": 57,
   "metadata": {
    "collapsed": false
   },
   "outputs": [
    {
     "name": "stdout",
     "output_type": "stream",
     "text": [
      "Coefficient of determination on training set: 0.234954534702\n",
      "Average coefficient of determination using 5-fold crossvalidation: 0.0558493412736\n",
      "Coefficient of determination:0.069 \n",
      "\n"
     ]
    }
   ],
   "source": [
    "# Linear Model\n",
    "from sklearn import linear_model\n",
    "clf_sgd = linear_model.SGDRegressor(loss='squared_loss', penalty=None,  random_state=42)\n",
    "train_and_evaluate(clf_sgd,X_train,y_train)\n",
    "measure_performance(X_test, y_test, clf_sgd, show_accuracy=False, show_classification_report=False,show_confusion_matrix=False, show_r2_score=True)"
   ]
  },
  {
   "cell_type": "code",
   "execution_count": 58,
   "metadata": {
    "collapsed": false
   },
   "outputs": [
    {
     "name": "stdout",
     "output_type": "stream",
     "text": [
      "Coefficient of determination on training set: 0.234948184326\n",
      "Average coefficient of determination using 5-fold crossvalidation: 0.0558433201057\n",
      "Coefficient of determination:0.069 \n",
      "\n"
     ]
    }
   ],
   "source": [
    "# Linear Model\n",
    "from sklearn import linear_model\n",
    "clf_sgd = linear_model.SGDRegressor(loss='squared_loss', penalty='l2',  random_state=42)\n",
    "train_and_evaluate(clf_sgd,X_train,y_train)\n",
    "measure_performance(X_test, y_test, clf_sgd, show_accuracy=False, show_classification_report=False,show_confusion_matrix=False, show_r2_score=True)"
   ]
  },
  {
   "cell_type": "code",
   "execution_count": 59,
   "metadata": {
    "collapsed": false
   },
   "outputs": [
    {
     "name": "stdout",
     "output_type": "stream",
     "text": [
      "Coefficient of determination on training set: 0.352499820498\n",
      "Average coefficient of determination using 5-fold crossvalidation: 0.0943475312894\n",
      "Coefficient of determination:0.483 \n",
      "\n"
     ]
    }
   ],
   "source": [
    "from sklearn import svm\n",
    "clf_svr = svm.SVR(kernel='linear')\n",
    "train_and_evaluate(clf_svr, X_train, y_train)\n",
    "measure_performance(X_test, y_test, clf_svr, show_accuracy=False, show_classification_report=False,show_confusion_matrix=False, show_r2_score=True)"
   ]
  },
  {
   "cell_type": "code",
   "execution_count": 60,
   "metadata": {
    "collapsed": false
   },
   "outputs": [
    {
     "name": "stdout",
     "output_type": "stream",
     "text": [
      "Coefficient of determination on training set: 0.385449609054\n",
      "Average coefficient of determination using 5-fold crossvalidation: -0.280557715301\n",
      "Coefficient of determination:0.387 \n",
      "\n"
     ]
    }
   ],
   "source": [
    "clf_svr_poly = svm.SVR(kernel='poly')\n",
    "train_and_evaluate(clf_svr_poly, X_train, y_train)\n",
    "measure_performance(X_test, y_test, clf_svr_poly, show_accuracy=False, show_classification_report=False,show_confusion_matrix=False, show_r2_score=True)"
   ]
  },
  {
   "cell_type": "code",
   "execution_count": 61,
   "metadata": {
    "collapsed": false
   },
   "outputs": [
    {
     "name": "stdout",
     "output_type": "stream",
     "text": [
      "Coefficient of determination on training set: 0.561544420963\n",
      "Average coefficient of determination using 5-fold crossvalidation: 0.131283773871\n",
      "Coefficient of determination:0.603 \n",
      "\n"
     ]
    }
   ],
   "source": [
    "clf_svr_rbf = svm.SVR(kernel='rbf')\n",
    "train_and_evaluate(clf_svr_rbf, X_train, y_train)\n",
    "measure_performance(X_test, y_test, clf_svr_rbf, show_accuracy=False, show_classification_report=False,show_confusion_matrix=False, show_r2_score=True)"
   ]
  },
  {
   "cell_type": "code",
   "execution_count": 84,
   "metadata": {
    "collapsed": false
   },
   "outputs": [
    {
     "name": "stdout",
     "output_type": "stream",
     "text": [
      "Coefficient of determination on training set: 1.0\n",
      "Average coefficient of determination using 5-fold crossvalidation: 0.0976659821275\n",
      "Coefficient of determination:0.789 \n",
      "\n"
     ]
    }
   ],
   "source": [
    "from sklearn import ensemble\n",
    "clf_et=ensemble.ExtraTreesRegressor(n_estimators=20,random_state=73)\n",
    "train_and_evaluate(clf_et, X_train, y_train)\n",
    "measure_performance(X_test, y_test, clf_et, show_accuracy=False, show_classification_report=False,show_confusion_matrix=False, show_r2_score=True)"
   ]
  },
  {
   "cell_type": "code",
   "execution_count": 63,
   "metadata": {
    "collapsed": false
   },
   "outputs": [
    {
     "name": "stdout",
     "output_type": "stream",
     "text": [
      "[(0.33555883687025045, 'month'), (0.14078594250192281, 'temp'), (0.12639162083247277, 'avg_rain'), (0.24037584402807552, 'humidity'), (0.1568877557672784, 'wind')]\n"
     ]
    }
   ],
   "source": [
    "print zip(clf_et.feature_importances_, list(train.columns.values))"
   ]
  },
  {
   "cell_type": "code",
   "execution_count": null,
   "metadata": {
    "collapsed": true
   },
   "outputs": [],
   "source": []
  }
 ],
 "metadata": {
  "anaconda-cloud": {},
  "kernelspec": {
   "display_name": "Python 2",
   "language": "python",
   "name": "python2"
  },
  "language_info": {
   "codemirror_mode": {
    "name": "ipython",
    "version": 2
   },
   "file_extension": ".py",
   "mimetype": "text/x-python",
   "name": "python",
   "nbconvert_exporter": "python",
   "pygments_lexer": "ipython2",
   "version": "2.7.11"
  }
 },
 "nbformat": 4,
 "nbformat_minor": 1
}
